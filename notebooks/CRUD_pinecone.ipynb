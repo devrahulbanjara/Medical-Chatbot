{
 "cells": [
  {
   "cell_type": "code",
   "execution_count": 9,
   "metadata": {},
   "outputs": [],
   "source": [
    "from langchain_community.document_loaders import PyPDFLoader,DirectoryLoader\n",
    "from langchain_text_splitters import RecursiveCharacterTextSplitter"
   ]
  },
  {
   "cell_type": "code",
   "execution_count": 7,
   "metadata": {},
   "outputs": [],
   "source": [
    "def load_data(data_dir_path): \n",
    "    loader = DirectoryLoader(data_dir_path, glob=\"*.pdf\", loader_cls = PyPDFLoader)\n",
    "    documents = loader.load()\n",
    "    return documents"
   ]
  },
  {
   "cell_type": "code",
   "execution_count": 8,
   "metadata": {},
   "outputs": [
    {
     "name": "stderr",
     "output_type": "stream",
     "text": [
      "Exception ignored in: <bound method IPythonKernel._clean_thread_parent_frames of <ipykernel.ipkernel.IPythonKernel object at 0x7accb91a2d40>>\n",
      "Traceback (most recent call last):\n",
      "  File \"/home/rahul/miniconda3/envs/chatbot/lib/python3.10/site-packages/ipykernel/ipkernel.py\", line 775, in _clean_thread_parent_frames\n",
      "    def _clean_thread_parent_frames(\n",
      "KeyboardInterrupt: \n"
     ]
    }
   ],
   "source": [
    "extracted_data = load_data(\"data/\")"
   ]
  },
  {
   "cell_type": "code",
   "execution_count": null,
   "metadata": {},
   "outputs": [],
   "source": [
    "def text_split(extracted_data):\n",
    "    text_splitter = RecursiveCharacterTextSplitter(chunk_size=500, chunk_overlap=20)\n",
    "    text_chunks = text_splitter.split_documents(extracted_data)\n",
    "    return text_chunks"
   ]
  },
  {
   "cell_type": "code",
   "execution_count": null,
   "metadata": {},
   "outputs": [
    {
     "name": "stdout",
     "output_type": "stream",
     "text": [
      "Length of text_chunks:  7023\n"
     ]
    }
   ],
   "source": [
    "text_chunks = text_split(extracted_data)\n",
    "print(\"Length of text_chunks: \", len(text_chunks))"
   ]
  },
  {
   "cell_type": "code",
   "execution_count": 10,
   "metadata": {},
   "outputs": [],
   "source": [
    "from langchain.embeddings import HuggingFaceEmbeddings"
   ]
  },
  {
   "cell_type": "code",
   "execution_count": 11,
   "metadata": {},
   "outputs": [
    {
     "name": "stderr",
     "output_type": "stream",
     "text": [
      "/tmp/ipykernel_45402/4186238865.py:1: LangChainDeprecationWarning: The class `HuggingFaceEmbeddings` was deprecated in LangChain 0.2.2 and will be removed in 1.0. An updated version of the class exists in the :class:`~langchain-huggingface package and should be used instead. To use it run `pip install -U :class:`~langchain-huggingface` and import as `from :class:`~langchain_huggingface import HuggingFaceEmbeddings``.\n",
      "  embeddings = HuggingFaceEmbeddings(model_name = \"all-MiniLM-L6-v2\")\n",
      "/home/rahul/miniconda3/envs/chatbot/lib/python3.10/site-packages/tqdm/auto.py:21: TqdmWarning: IProgress not found. Please update jupyter and ipywidgets. See https://ipywidgets.readthedocs.io/en/stable/user_install.html\n",
      "  from .autonotebook import tqdm as notebook_tqdm\n"
     ]
    }
   ],
   "source": [
    "embeddings = HuggingFaceEmbeddings(model_name = \"all-MiniLM-L6-v2\")"
   ]
  },
  {
   "cell_type": "code",
   "execution_count": 12,
   "metadata": {},
   "outputs": [],
   "source": [
    "query_result = embeddings.aembed_query(\"Hey my name is Rahul\")"
   ]
  },
  {
   "cell_type": "code",
   "execution_count": 15,
   "metadata": {},
   "outputs": [],
   "source": [
    "from dotenv import load_dotenv\n",
    "load_dotenv()\n",
    "import os"
   ]
  },
  {
   "cell_type": "code",
   "execution_count": 16,
   "metadata": {},
   "outputs": [],
   "source": [
    "PINECONE_API_KEY = os.environ.get(\"PINECONE_API_KEY\")"
   ]
  },
  {
   "cell_type": "code",
   "execution_count": 17,
   "metadata": {},
   "outputs": [],
   "source": [
    "from pinecone import Pinecone, ServerlessSpec\n",
    "\n",
    "pc = Pinecone(api_key=PINECONE_API_KEY)"
   ]
  },
  {
   "cell_type": "code",
   "execution_count": 22,
   "metadata": {},
   "outputs": [],
   "source": [
    "index_name = \"medical-chatbot\"\n",
    "\n",
    "# pc.create_index(\n",
    "#     name=index_name,\n",
    "#     dimension=384,\n",
    "#     metric=\"cosine\",\n",
    "#     spec=ServerlessSpec(\n",
    "#         cloud=\"aws\",\n",
    "#         region=\"us-east-1\"\n",
    "#     ) \n",
    "# )"
   ]
  },
  {
   "cell_type": "code",
   "execution_count": 19,
   "metadata": {},
   "outputs": [],
   "source": [
    "import os\n",
    "\n",
    "os.environ['PINECONE_API_KEY'] = PINECONE_API_KEY"
   ]
  },
  {
   "cell_type": "code",
   "execution_count": 20,
   "metadata": {},
   "outputs": [],
   "source": [
    "from langchain_pinecone import PineconeVectorStore"
   ]
  },
  {
   "cell_type": "code",
   "execution_count": null,
   "metadata": {},
   "outputs": [],
   "source": [
    "# docsearch = PineconeVectorStore.from_documents(\n",
    "#     documents=text_chunks,\n",
    "#     index_name=index_name,\n",
    "#     embedding=embeddings\n",
    "#     )"
   ]
  },
  {
   "cell_type": "code",
   "execution_count": 23,
   "metadata": {},
   "outputs": [],
   "source": [
    "get_op = PineconeVectorStore.from_existing_index(\n",
    "    index_name=index_name,\n",
    "    embedding=embeddings\n",
    "    )"
   ]
  },
  {
   "cell_type": "code",
   "execution_count": 24,
   "metadata": {},
   "outputs": [
    {
     "data": {
      "text/plain": [
       "<langchain_pinecone.vectorstores.PineconeVectorStore at 0x7acc62872920>"
      ]
     },
     "execution_count": 24,
     "metadata": {},
     "output_type": "execute_result"
    }
   ],
   "source": [
    "get_op"
   ]
  },
  {
   "cell_type": "code",
   "execution_count": 25,
   "metadata": {},
   "outputs": [],
   "source": [
    "retriever = get_op.as_retriever(search_type=\"similarity\", search_kwards={\"k\":3})"
   ]
  },
  {
   "cell_type": "code",
   "execution_count": 35,
   "metadata": {},
   "outputs": [
    {
     "name": "stdout",
     "output_type": "stream",
     "text": [
      "Documents returned by retriever:\n",
      "thing that irritates the skin and is manifested by one or\n",
      "more lines of red, swollen, blistered skin that may itch or\n",
      "GALE ENCYCLOPEDIA OF MEDICINE 21036\n",
      "Dermatitis\n",
      "in contact with an irritating substance. The symptoms\n",
      "can take many forms: redness, itching , crusting,\n",
      "swelling, blistering, oozing, dryness, scaliness, thicken-\n",
      "ing of the skin, and a feeling of warmth at the site of con-\n",
      "tact. In extreme cases, severe blistering can occur and\n",
      "open sores can form. Jobs that require frequent skin\n",
      "exposure to water, such as hairdressing and food prepara-\n",
      "tion, can make the skin more susceptible to ICD.\n",
      "Allergic contact dermatitis (ACD) results when\n",
      "Corticosteriod —A group of synthetic hormones\n",
      "that are used to prevent or reduce inflammation.\n",
      "Toxic effects may result from rapid withdrawal after\n",
      "prolonged use or from continued use of large doses.\n",
      "Patch test—A skin test that is done to identify aller-\n",
      "gens. A suspected substance is applied to the skin.\n",
      "After 24–48 hours, if the area is red and swollen,\n",
      "the test is positive for that substance. If no reaction\n",
      "occurs, another substance is applied. This is con-\n",
      "culation, leading to a bluish skin coloration.(Photo\n",
      "Researchers, Inc. Reproduced by permission.)\n",
      "GEM -0625 to 1002 - C  10/22/03 6:11 PM  Page 979\n"
     ]
    }
   ],
   "source": [
    "retriever_result = retriever.invoke(\"Acne\")\n",
    "print(\"Documents returned by retriever:\")\n",
    "for doc in retriever_result:\n",
    "    print(doc.page_content)"
   ]
  },
  {
   "cell_type": "code",
   "execution_count": 27,
   "metadata": {},
   "outputs": [],
   "source": [
    "from langchain.llms import Together\n",
    "load_dotenv()\n",
    "\n",
    "api_key = os.getenv(\"TOGETHER_API_KEY\")"
   ]
  },
  {
   "cell_type": "code",
   "execution_count": 28,
   "metadata": {},
   "outputs": [
    {
     "name": "stderr",
     "output_type": "stream",
     "text": [
      "/tmp/ipykernel_45402/3910092519.py:1: LangChainDeprecationWarning: The class `Together` was deprecated in LangChain 0.0.12 and will be removed in 1.0. An updated version of the class exists in the :class:`~langchain-together package and should be used instead. To use it run `pip install -U :class:`~langchain-together` and import as `from :class:`~langchain_together import Together``.\n",
      "  llm = Together(\n"
     ]
    }
   ],
   "source": [
    "llm = Together(\n",
    "    model=\"meta-llama/Llama-3-70b-chat-hf\"\n",
    ")"
   ]
  },
  {
   "cell_type": "code",
   "execution_count": 39,
   "metadata": {},
   "outputs": [],
   "source": [
    "system_prompt = (\n",
    "    \"You are an assistant for question-answering tasks. \"\n",
    "    \"Use the following pieces of retrieved context to answer \"\n",
    "    \"the question. If you don't know the answer, say that you don't know. \"\n",
    "    \"Use three sentences maximum and keep the answer concise.\\n\\n{context}\"\n",
    ")"
   ]
  },
  {
   "cell_type": "code",
   "execution_count": 41,
   "metadata": {},
   "outputs": [],
   "source": [
    "from langchain_core.prompts import ChatPromptTemplate\n",
    "\n",
    "prompt = ChatPromptTemplate.from_messages(\n",
    "    [\n",
    "        (\"system\", system_prompt),\n",
    "        (\"human\", \"{input}\"),\n",
    "    ]\n",
    ")"
   ]
  },
  {
   "cell_type": "code",
   "execution_count": 42,
   "metadata": {},
   "outputs": [],
   "source": [
    "from langchain.chains.combine_documents import create_stuff_documents_chain\n",
    "from langchain.chains import create_retrieval_chain\n",
    "\n",
    "question_answer_chain = create_stuff_documents_chain(llm, prompt)\n",
    "rag_chain = create_retrieval_chain(retriever, question_answer_chain)"
   ]
  },
  {
   "cell_type": "code",
   "execution_count": 44,
   "metadata": {},
   "outputs": [
    {
     "name": "stdout",
     "output_type": "stream",
     "text": [
      "Response:  {'input': 'What is acne?', 'context': [Document(id='94c77c22-5675-40d6-8b9a-22d657f6c28b', metadata={'creationdate': '2004-12-18T17:16:32-05:00', 'creator': 'PyPDF', 'moddate': '2004-12-18T16:35:04-06:00', 'page': 425.0, 'page_label': '426', 'producer': 'PDFlib+PDI 5.0.0 (SunOS)', 'source': 'data/Gale Encyclopedia of Medicine. Vol. 2. 2nd ed.pdf', 'total_pages': 759.0}, page_content='Corticosteriod —A group of synthetic hormones\\nthat are used to prevent or reduce inflammation.\\nToxic effects may result from rapid withdrawal after\\nprolonged use or from continued use of large doses.\\nPatch test—A skin test that is done to identify aller-\\ngens. A suspected substance is applied to the skin.\\nAfter 24–48 hours, if the area is red and swollen,\\nthe test is positive for that substance. If no reaction\\noccurs, another substance is applied. This is con-'), Document(id='5e904193-ca56-4cf2-b45a-adf4d0908de6', metadata={'creationdate': '2004-12-18T17:16:32-05:00', 'creator': 'PyPDF', 'moddate': '2004-12-18T16:35:04-06:00', 'page': 298.0, 'page_label': '299', 'producer': 'PDFlib+PDI 5.0.0 (SunOS)', 'source': 'data/Gale Encyclopedia of Medicine. Vol. 2. 2nd ed.pdf', 'total_pages': 759.0}, page_content='Corticosteroids —A group of anti-inflammatory\\nsubstances often used to treat skin conditions.\\nImmune response—The protective reaction by the\\nimmune system against foreign antigens (sub-\\nstances that the body perceives as potentially dan-\\ngerous). The immune system combats disease by\\nneutralizing or destroying antigens.\\ncontact dermatitis becomes a chronic and disabling con-\\ndition that can have a profound effect on employability\\nand quality of life.\\nPrevention'), Document(id='661c3336-8e18-4a3e-bce0-7d55f53f938b', metadata={'creationdate': '2004-12-18T17:16:32-05:00', 'creator': 'PyPDF', 'moddate': '2004-12-18T16:35:04-06:00', 'page': 423.0, 'page_label': '424', 'producer': 'PDFlib+PDI 5.0.0 (SunOS)', 'source': 'data/Gale Encyclopedia of Medicine. Vol. 2. 2nd ed.pdf', 'total_pages': 759.0}, page_content='thing that irritates the skin and is manifested by one or\\nmore lines of red, swollen, blistered skin that may itch or\\nGALE ENCYCLOPEDIA OF MEDICINE 21036\\nDermatitis'), Document(id='9cd78465-2969-4daf-a692-c824532bbef5', metadata={'creationdate': '2004-12-18T17:16:32-05:00', 'creator': 'PyPDF', 'moddate': '2004-12-18T16:35:04-06:00', 'page': 425.0, 'page_label': '426', 'producer': 'PDFlib+PDI 5.0.0 (SunOS)', 'source': 'data/Gale Encyclopedia of Medicine. Vol. 2. 2nd ed.pdf', 'total_pages': 759.0}, page_content='tinued until the patient experiences an allergic\\nreaction where the irritant was applied to the skin.\\nRash—A spotted, pink or red skin eruption that\\nmay be accompanied by itching and is caused by\\ndisease, contact with an allergen, food ingestion,\\nor drug reaction.\\nUlcer—An open sore on the skin, resulting from\\ntissue destruction, that is usually accompanied by\\nredness, pain, or infection.\\nPatients who have a history of dermatitis should\\nremove their rings before washing their hands. They')], 'answer': ''}\n",
      "Answer: \n"
     ]
    }
   ],
   "source": [
    "user_question = \"What is acne?\"\n",
    "\n",
    "# Invoke the RAG chain, passing the user's question\n",
    "response = rag_chain.invoke({\"input\": user_question})\n",
    "\n",
    "# Print the result\n",
    "print(\"Response: \",response)\n",
    "\n",
    "print(\"Answer:\", response[\"answer\"])"
   ]
  },
  {
   "cell_type": "code",
   "execution_count": 47,
   "metadata": {},
   "outputs": [
    {
     "name": "stdout",
     "output_type": "stream",
     "text": [
      "LLM Response: \n",
      "tact dermatitis occurs when the skin comes into con-\n",
      "tact with an irritating substance.\n"
     ]
    }
   ],
   "source": [
    "context_text = \"\\n\".join([doc.page_content for doc in retriever_result])\n",
    "prompt_text = system_prompt.format(context=context_text, input=\"What is diabetes?\")\n",
    "response = llm.invoke(prompt_text)\n",
    "print(\"LLM Response:\", response)\n"
   ]
  },
  {
   "cell_type": "code",
   "execution_count": null,
   "metadata": {},
   "outputs": [],
   "source": []
  }
 ],
 "metadata": {
  "kernelspec": {
   "display_name": "chatbot",
   "language": "python",
   "name": "python3"
  },
  "language_info": {
   "codemirror_mode": {
    "name": "ipython",
    "version": 3
   },
   "file_extension": ".py",
   "mimetype": "text/x-python",
   "name": "python",
   "nbconvert_exporter": "python",
   "pygments_lexer": "ipython3",
   "version": "undefined.undefined.undefined"
  }
 },
 "nbformat": 4,
 "nbformat_minor": 2
}
